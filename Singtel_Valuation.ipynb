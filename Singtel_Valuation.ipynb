{
 "cells": [
  {
   "cell_type": "markdown",
   "metadata": {},
   "source": [
    "First, we try and scrape the Consolidated Income Statement table from Singtel's 2023 report PDF into a usable format or, in our case, a pandas dataframe."
   ]
  },
  {
   "cell_type": "code",
   "execution_count": null,
   "metadata": {},
   "outputs": [],
   "source": [
    "import tabula as tb\n",
    "import pandas as pd\n",
    "\n",
    "# Scrape the appropriate table from the pdf using tabula and convert that into a pandas dataframe\n",
    "df = pd.DataFrame(tb.read_pdf(r\"C:\\Users\\KSach\\OneDrive\\01 Portfolio Projects\\02 Company Market Valuation Analysis\\Singtel_Annual_Report_2023.pdf\", area = (133.92, 56, 604.8, 510.48), pages='133')[0])\n",
    "\n",
    "# Replace header with the contents of the first row\n",
    "df.columns = df.iloc[0] \n",
    "df = df[1:]\n",
    "df"
   ]
  }
 ],
 "metadata": {
  "kernelspec": {
   "display_name": "Python 3",
   "language": "python",
   "name": "python3"
  },
  "language_info": {
   "codemirror_mode": {
    "name": "ipython",
    "version": 3
   },
   "file_extension": ".py",
   "mimetype": "text/x-python",
   "name": "python",
   "nbconvert_exporter": "python",
   "pygments_lexer": "ipython3",
   "version": "3.11.5"
  }
 },
 "nbformat": 4,
 "nbformat_minor": 2
}
